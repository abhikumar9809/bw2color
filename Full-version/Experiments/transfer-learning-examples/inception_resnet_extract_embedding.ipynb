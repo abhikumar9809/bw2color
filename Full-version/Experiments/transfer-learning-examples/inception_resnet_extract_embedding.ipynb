{
 "cells": [
  {
   "cell_type": "code",
   "execution_count": 1,
   "metadata": {},
   "outputs": [
    {
     "name": "stderr",
     "output_type": "stream",
     "text": [
      "Using TensorFlow backend.\n"
     ]
    },
    {
     "name": "stdout",
     "output_type": "stream",
     "text": [
      "Downloading data from https://github.com/fchollet/deep-learning-models/releases/download/v0.7/inception_resnet_v2_weights_tf_dim_ordering_tf_kernels_notop.h5\n",
      "219062272/219055592 [==============================] - 16s 0us/step\n",
      "(299, 299, 3)\n",
      "(1, 299, 299, 3)\n",
      "(1, 299, 299, 3)\n"
     ]
    }
   ],
   "source": [
    "import keras\n",
    "from keras.applications.inception_resnet_v2 import InceptionResNetV2\n",
    "from keras.preprocessing import image\n",
    "from keras.applications.inception_resnet_v2 import preprocess_input\n",
    "import numpy as np\n",
    "\n",
    "model = InceptionResNetV2(weights='imagenet', include_top=False)\n",
    "\n",
    "img_path = 'dog.jpg'\n",
    "img = image.load_img(img_path, target_size=(299, 299))\n",
    "x = image.img_to_array(img)\n",
    "print(x.shape)\n",
    "x = np.expand_dims(x, axis=0)\n",
    "print(x.shape)\n",
    "x = preprocess_input(x)\n",
    "print(x.shape)\n",
    "\n",
    "features = model.predict(x)"
   ]
  },
  {
   "cell_type": "code",
   "execution_count": 2,
   "metadata": {},
   "outputs": [
    {
     "name": "stdout",
     "output_type": "stream",
     "text": [
      "2.2.0\n"
     ]
    }
   ],
   "source": [
    "print(keras.__version__)"
   ]
  },
  {
   "cell_type": "code",
   "execution_count": 3,
   "metadata": {},
   "outputs": [
    {
     "name": "stdout",
     "output_type": "stream",
     "text": [
      "[[[[0.         0.         0.06276314 ... 0.         0.\n",
      "    1.5872126 ]\n",
      "   [0.         0.07580525 0.         ... 0.         0.\n",
      "    0.        ]\n",
      "   [0.         0.44307217 0.         ... 0.         0.\n",
      "    0.        ]\n",
      "   ...\n",
      "   [0.         0.         0.         ... 0.         0.\n",
      "    0.        ]\n",
      "   [0.         0.3058137  0.         ... 0.         0.\n",
      "    0.        ]\n",
      "   [0.         0.         0.00433751 ... 0.         0.\n",
      "    0.        ]]\n",
      "\n",
      "  [[0.         0.09524024 0.         ... 0.         0.\n",
      "    1.2696894 ]\n",
      "   [0.         0.46555698 0.         ... 0.         0.\n",
      "    0.38313422]\n",
      "   [0.         1.0452741  0.         ... 0.         0.\n",
      "    0.3905334 ]\n",
      "   ...\n",
      "   [0.3090883  0.09143483 0.267756   ... 0.         0.\n",
      "    0.        ]\n",
      "   [0.         0.41233507 0.         ... 0.         0.\n",
      "    0.03268083]\n",
      "   [0.33985317 0.12890808 0.         ... 0.         0.\n",
      "    0.        ]]\n",
      "\n",
      "  [[0.         0.1007377  0.         ... 0.         0.\n",
      "    0.        ]\n",
      "   [0.         0.13961335 0.         ... 0.         0.\n",
      "    0.        ]\n",
      "   [0.         0.66437024 0.08609694 ... 0.         0.\n",
      "    0.        ]\n",
      "   ...\n",
      "   [0.         1.22033    0.8441567  ... 0.         0.\n",
      "    0.        ]\n",
      "   [0.         0.85795623 0.47668597 ... 0.         0.\n",
      "    0.        ]\n",
      "   [0.06827594 0.54811394 0.06418521 ... 0.         0.\n",
      "    0.        ]]\n",
      "\n",
      "  ...\n",
      "\n",
      "  [[0.06454482 0.         0.         ... 0.         0.\n",
      "    0.00302899]\n",
      "   [0.         0.         0.         ... 0.         0.\n",
      "    0.        ]\n",
      "   [0.         0.95069593 0.26151407 ... 0.         0.\n",
      "    0.        ]\n",
      "   ...\n",
      "   [0.         0.         0.819118   ... 0.         0.\n",
      "    0.        ]\n",
      "   [0.         0.26258495 0.33005822 ... 0.48932916 0.\n",
      "    0.        ]\n",
      "   [0.         0.28770465 0.         ... 0.         0.\n",
      "    0.        ]]\n",
      "\n",
      "  [[0.         0.         0.         ... 0.         0.\n",
      "    0.        ]\n",
      "   [0.         0.         0.         ... 0.         0.\n",
      "    0.        ]\n",
      "   [0.         0.03545341 0.0654721  ... 0.         0.\n",
      "    0.        ]\n",
      "   ...\n",
      "   [0.         0.         0.         ... 0.         0.\n",
      "    0.        ]\n",
      "   [0.         0.         0.         ... 0.         0.\n",
      "    0.        ]\n",
      "   [0.         0.         0.         ... 0.         0.\n",
      "    0.        ]]\n",
      "\n",
      "  [[0.01210741 0.         0.         ... 0.         0.\n",
      "    0.        ]\n",
      "   [0.         0.02496877 0.         ... 0.         0.\n",
      "    0.        ]\n",
      "   [0.         0.1396856  0.         ... 0.         0.\n",
      "    0.        ]\n",
      "   ...\n",
      "   [0.         0.         0.         ... 0.         0.\n",
      "    0.        ]\n",
      "   [0.         0.         0.         ... 0.         0.\n",
      "    0.        ]\n",
      "   [0.         0.         0.         ... 0.         0.\n",
      "    0.        ]]]]\n"
     ]
    }
   ],
   "source": [
    "print(features)"
   ]
  },
  {
   "cell_type": "code",
   "execution_count": null,
   "metadata": {
    "collapsed": true
   },
   "outputs": [],
   "source": []
  }
 ],
 "metadata": {
  "kernelspec": {
   "display_name": "Python 3",
   "language": "python",
   "name": "python3"
  },
  "language_info": {
   "codemirror_mode": {
    "name": "ipython",
    "version": 3
   },
   "file_extension": ".py",
   "mimetype": "text/x-python",
   "name": "python",
   "nbconvert_exporter": "python",
   "pygments_lexer": "ipython3",
   "version": "3.6.5"
  }
 },
 "nbformat": 4,
 "nbformat_minor": 2
}
